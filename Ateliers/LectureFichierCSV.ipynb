{
 "cells": [
  {
   "cell_type": "code",
   "execution_count": 1,
   "id": "74143699-a517-4561-93cd-dd48ba235dea",
   "metadata": {},
   "outputs": [],
   "source": [
    "import os, , pandas "
   ]
  },
  {
   "cell_type": "raw",
   "id": "46e26f11-5421-4630-bb33-52ce14dc4ca8",
   "metadata": {},
   "source": [
    "' ../donnees/meteo/postesSynop.csv'"
   ]
  },
  {
   "cell_type": "code",
   "execution_count": 2,
   "id": "f61d9e55-f9b3-46fb-8cbe-b2cdd268b0f3",
   "metadata": {},
   "outputs": [
    {
     "name": "stdin",
     "output_type": "stream",
     "text": [
      " ../donnees/meteo/postesSynop.csv\n"
     ]
    }
   ],
   "source": [
    "nom_fichier = input()"
   ]
  },
  {
   "cell_type": "code",
   "execution_count": 5,
   "id": "41f768ee-eac2-46b6-988d-6467f86a093c",
   "metadata": {},
   "outputs": [
    {
     "data": {
      "text/plain": [
       "True"
      ]
     },
     "execution_count": 5,
     "metadata": {},
     "output_type": "execute_result"
    }
   ],
   "source": [
    "os.path.isfile(nom_fichier)"
   ]
  },
  {
   "cell_type": "code",
   "execution_count": 6,
   "id": "c1e55190-13c3-409c-971f-5ac4cafdb737",
   "metadata": {},
   "outputs": [],
   "source": [
    "dictFicier ={'nom':['Bizoi','Duluc','Storer'],'prenom':['Razvan','Isabelle','Pierre'],'taille':[1.81,1.65,1.90]}"
   ]
  },
  {
   "cell_type": "code",
   "execution_count": 7,
   "id": "1595d1aa-44b9-4136-ac99-4b826de9381a",
   "metadata": {},
   "outputs": [
    {
     "data": {
      "text/plain": [
       "{'nom': ['Bizoi', 'Duluc', 'Storer'],\n",
       " 'prenom': ['Razvan', 'Isabelle', 'Pierre'],\n",
       " 'taille': [1.81, 1.65, 1.9]}"
      ]
     },
     "execution_count": 7,
     "metadata": {},
     "output_type": "execute_result"
    }
   ],
   "source": [
    "dictFicier"
   ]
  },
  {
   "cell_type": "code",
   "execution_count": 8,
   "id": "ae140fe8-de3b-4b90-bf69-9555951988b8",
   "metadata": {},
   "outputs": [
    {
     "data": {
      "text/html": [
       "<div>\n",
       "<style scoped>\n",
       "    .dataframe tbody tr th:only-of-type {\n",
       "        vertical-align: middle;\n",
       "    }\n",
       "\n",
       "    .dataframe tbody tr th {\n",
       "        vertical-align: top;\n",
       "    }\n",
       "\n",
       "    .dataframe thead th {\n",
       "        text-align: right;\n",
       "    }\n",
       "</style>\n",
       "<table border=\"1\" class=\"dataframe\">\n",
       "  <thead>\n",
       "    <tr style=\"text-align: right;\">\n",
       "      <th></th>\n",
       "      <th>nom</th>\n",
       "      <th>prenom</th>\n",
       "      <th>taille</th>\n",
       "    </tr>\n",
       "  </thead>\n",
       "  <tbody>\n",
       "    <tr>\n",
       "      <th>0</th>\n",
       "      <td>Bizoi</td>\n",
       "      <td>Razvan</td>\n",
       "      <td>1.81</td>\n",
       "    </tr>\n",
       "    <tr>\n",
       "      <th>1</th>\n",
       "      <td>Duluc</td>\n",
       "      <td>Isabelle</td>\n",
       "      <td>1.65</td>\n",
       "    </tr>\n",
       "    <tr>\n",
       "      <th>2</th>\n",
       "      <td>Storer</td>\n",
       "      <td>Pierre</td>\n",
       "      <td>1.90</td>\n",
       "    </tr>\n",
       "  </tbody>\n",
       "</table>\n",
       "</div>"
      ],
      "text/plain": [
       "      nom    prenom  taille\n",
       "0   Bizoi    Razvan    1.81\n",
       "1   Duluc  Isabelle    1.65\n",
       "2  Storer    Pierre    1.90"
      ]
     },
     "execution_count": 8,
     "metadata": {},
     "output_type": "execute_result"
    }
   ],
   "source": [
    "pandas.DataFrame(dictFicier)"
   ]
  },
  {
   "cell_type": "code",
   "execution_count": 11,
   "id": "c7266fb4-c3f0-442e-a98c-052917ac5e47",
   "metadata": {},
   "outputs": [
    {
     "data": {
      "text/html": [
       "<div>\n",
       "<style scoped>\n",
       "    .dataframe tbody tr th:only-of-type {\n",
       "        vertical-align: middle;\n",
       "    }\n",
       "\n",
       "    .dataframe tbody tr th {\n",
       "        vertical-align: top;\n",
       "    }\n",
       "\n",
       "    .dataframe thead th {\n",
       "        text-align: right;\n",
       "    }\n",
       "</style>\n",
       "<table border=\"1\" class=\"dataframe\">\n",
       "  <thead>\n",
       "    <tr style=\"text-align: right;\">\n",
       "      <th></th>\n",
       "      <th>ID</th>\n",
       "      <th>Nom</th>\n",
       "      <th>Latitude</th>\n",
       "      <th>Longitude</th>\n",
       "      <th>Altitude</th>\n",
       "    </tr>\n",
       "  </thead>\n",
       "  <tbody>\n",
       "    <tr>\n",
       "      <th>27</th>\n",
       "      <td>7535</td>\n",
       "      <td>GOURDON</td>\n",
       "      <td>44.745000</td>\n",
       "      <td>1.396667</td>\n",
       "      <td>260</td>\n",
       "    </tr>\n",
       "    <tr>\n",
       "      <th>1</th>\n",
       "      <td>7015</td>\n",
       "      <td>LILLE-LESQUIN</td>\n",
       "      <td>50.570000</td>\n",
       "      <td>3.097500</td>\n",
       "      <td>47</td>\n",
       "    </tr>\n",
       "    <tr>\n",
       "      <th>10</th>\n",
       "      <td>7149</td>\n",
       "      <td>ORLY</td>\n",
       "      <td>48.716833</td>\n",
       "      <td>2.384333</td>\n",
       "      <td>89</td>\n",
       "    </tr>\n",
       "    <tr>\n",
       "      <th>58</th>\n",
       "      <td>81405</td>\n",
       "      <td>CAYENNE-MATOURY</td>\n",
       "      <td>4.822333</td>\n",
       "      <td>-52.365333</td>\n",
       "      <td>4</td>\n",
       "    </tr>\n",
       "    <tr>\n",
       "      <th>28</th>\n",
       "      <td>7558</td>\n",
       "      <td>MILLAU</td>\n",
       "      <td>44.118500</td>\n",
       "      <td>3.019500</td>\n",
       "      <td>712</td>\n",
       "    </tr>\n",
       "  </tbody>\n",
       "</table>\n",
       "</div>"
      ],
      "text/plain": [
       "       ID              Nom   Latitude  Longitude  Altitude\n",
       "27   7535          GOURDON  44.745000   1.396667       260\n",
       "1    7015    LILLE-LESQUIN  50.570000   3.097500        47\n",
       "10   7149             ORLY  48.716833   2.384333        89\n",
       "58  81405  CAYENNE-MATOURY   4.822333 -52.365333         4\n",
       "28   7558           MILLAU  44.118500   3.019500       712"
      ]
     },
     "execution_count": 11,
     "metadata": {},
     "output_type": "execute_result"
    }
   ],
   "source": [
    "pandas.read_csv('../donnees/meteo/postesSynop.csv',sep=';').sample(5)"
   ]
  },
  {
   "cell_type": "markdown",
   "id": "a8ee8a67-e00d-425d-8121-9f67d4403661",
   "metadata": {},
   "source": [
    "# Exercice n° 1\n",
    "\n",
    "Ecrire une fonction qui permet de lire un fichier CSV (contient dans la première ligne le nom des colonnes) et constituer un dictionnaire avec comme clés le nom des colonnes et valeur la liste des valeurs pour chaque colonne. <br>\n",
    "Le caractère de séparation doit être un argument de la fonction.<br>\n",
    "Un autre argument doit être la valeur des information non renseignées (ex. chaine vide `''` ou `mq`) et à la place on met None.\n"
   ]
  },
  {
   "cell_type": "code",
   "execution_count": null,
   "id": "5c1be5a2-3017-4dde-9450-4c8a9a8e97c0",
   "metadata": {},
   "outputs": [],
   "source": []
  }
 ],
 "metadata": {
  "kernelspec": {
   "display_name": "Python 3 (ipykernel)",
   "language": "python",
   "name": "python3"
  },
  "language_info": {
   "codemirror_mode": {
    "name": "ipython",
    "version": 3
   },
   "file_extension": ".py",
   "mimetype": "text/x-python",
   "name": "python",
   "nbconvert_exporter": "python",
   "pygments_lexer": "ipython3",
   "version": "3.10.0"
  }
 },
 "nbformat": 4,
 "nbformat_minor": 5
}
