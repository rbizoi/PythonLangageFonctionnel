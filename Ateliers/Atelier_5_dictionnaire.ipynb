{
 "cells": [
  {
   "cell_type": "markdown",
   "metadata": {},
   "source": [
    "# La notation des fonctions"
   ]
  },
  {
   "cell_type": "code",
   "execution_count": 21,
   "metadata": {},
   "outputs": [],
   "source": [
    "def f01(): \n",
    "    print('exécution de la fonction f01')\n",
    "    return 0\n",
    "\n",
    "\n",
    "def f02(): \n",
    "    print('exécution de la fonction f02')\n",
    "    return 0\n",
    "\n",
    "\n",
    "def f03(): \n",
    "    print('exécution de la fonction f03')\n",
    "    return 0\n",
    "\n",
    "\n",
    "def f04(): \n",
    "    print('exécution de la fonction f04')\n",
    "    return 0\n",
    "\n",
    "\n",
    "def f05(): \n",
    "    print('exécution de la fonction f05')\n",
    "    return 1\n",
    "\n",
    "def f06(): \n",
    "    print('I C L M valeurs ')\n",
    "    return 0 "
   ]
  },
  {
   "cell_type": "code",
   "execution_count": 22,
   "metadata": {},
   "outputs": [],
   "source": [
    "dictionnaire = {'I':f01,'C':f02,'L':f03,'M':f04, 'X': f05}  "
   ]
  },
  {
   "cell_type": "code",
   "execution_count": null,
   "metadata": {},
   "outputs": [
    {
     "name": "stdin",
     "output_type": "stream",
     "text": [
      " i\n"
     ]
    },
    {
     "name": "stdout",
     "output_type": "stream",
     "text": [
      "exécution de la fonction f01\n"
     ]
    },
    {
     "name": "stdin",
     "output_type": "stream",
     "text": [
      " c\n"
     ]
    },
    {
     "name": "stdout",
     "output_type": "stream",
     "text": [
      "exécution de la fonction f02\n"
     ]
    },
    {
     "name": "stdin",
     "output_type": "stream",
     "text": [
      " l\n"
     ]
    },
    {
     "name": "stdout",
     "output_type": "stream",
     "text": [
      "exécution de la fonction f03\n"
     ]
    },
    {
     "name": "stdin",
     "output_type": "stream",
     "text": [
      " l\n"
     ]
    },
    {
     "name": "stdout",
     "output_type": "stream",
     "text": [
      "exécution de la fonction f03\n"
     ]
    },
    {
     "name": "stdin",
     "output_type": "stream",
     "text": [
      " f\n"
     ]
    },
    {
     "name": "stdout",
     "output_type": "stream",
     "text": [
      "I C L M valeurs \n"
     ]
    }
   ],
   "source": [
    "x = 0\n",
    "while( x == 0):\n",
    "    nom = input().upper()\n",
    "    x = dictionnaire.get(nom,f06)()"
   ]
  }
 ],
 "metadata": {
  "kernelspec": {
   "display_name": "Python 3 (ipykernel)",
   "language": "python",
   "name": "python3"
  },
  "language_info": {
   "codemirror_mode": {
    "name": "ipython",
    "version": 3
   },
   "file_extension": ".py",
   "mimetype": "text/x-python",
   "name": "python",
   "nbconvert_exporter": "python",
   "pygments_lexer": "ipython3",
   "version": "3.10.0"
  }
 },
 "nbformat": 4,
 "nbformat_minor": 4
}
