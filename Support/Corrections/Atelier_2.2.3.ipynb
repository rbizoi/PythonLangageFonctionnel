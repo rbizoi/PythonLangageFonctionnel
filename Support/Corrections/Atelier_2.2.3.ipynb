{
 "cells": [
  {
   "cell_type": "markdown",
   "metadata": {},
   "source": [
    "## 2.2.3\n",
    "Écrivez un programme qui à partir d’un caractère donné trouve l’index correspondant. Attention : il faut penser à tous les cas possibles. Il faut notamment veiller à ce que le caractère recherché n’existe pas dans la chaîne traitée. Les caractères accentués doivent être acceptés. Améliorez le traitement en lui ajoutant l’index à partir duquel la recherche doit s’effectuer dans la chaîne. "
   ]
  },
  {
   "cell_type": "code",
   "execution_count": 1,
   "metadata": {},
   "outputs": [
    {
     "name": "stdin",
     "output_type": "stream",
     "text": [
      "Une chaîne de caractères : César & Cléopâtre\n",
      "Un caractère : r\n"
     ]
    }
   ],
   "source": [
    "# Rechercher l'indice d'un caractère donné dans une chaîne\n",
    "ch = input('Une chaîne de caractères :')\n",
    "car = input('Un caractère :')"
   ]
  },
  {
   "cell_type": "code",
   "execution_count": 8,
   "metadata": {},
   "outputs": [
    {
     "data": {
      "text/plain": [
       "str"
      ]
     },
     "execution_count": 8,
     "metadata": {},
     "output_type": "execute_result"
    }
   ],
   "source": [
    "type(car)"
   ]
  },
  {
   "cell_type": "code",
   "execution_count": 9,
   "metadata": {},
   "outputs": [
    {
     "data": {
      "text/plain": [
       "int"
      ]
     },
     "execution_count": 9,
     "metadata": {},
     "output_type": "execute_result"
    }
   ],
   "source": [
    "i = 0\n",
    "type(i)"
   ]
  },
  {
   "cell_type": "code",
   "execution_count": 10,
   "metadata": {},
   "outputs": [
    {
     "name": "stdin",
     "output_type": "stream",
     "text": [
      "index à partir : 0\n"
     ]
    }
   ],
   "source": [
    "i = input('index à partir :')"
   ]
  },
  {
   "cell_type": "code",
   "execution_count": 11,
   "metadata": {},
   "outputs": [
    {
     "data": {
      "text/plain": [
       "str"
      ]
     },
     "execution_count": 11,
     "metadata": {},
     "output_type": "execute_result"
    }
   ],
   "source": [
    "type(i)"
   ]
  },
  {
   "cell_type": "code",
   "execution_count": 14,
   "metadata": {},
   "outputs": [
    {
     "name": "stdin",
     "output_type": "stream",
     "text": [
      "index à partir : 10\n"
     ]
    }
   ],
   "source": [
    "i = int(input('index à partir :'))"
   ]
  },
  {
   "cell_type": "code",
   "execution_count": 18,
   "metadata": {},
   "outputs": [
    {
     "name": "stdout",
     "output_type": "stream",
     "text": [
      "César & Cléopâtre 17\n",
      "le caractère est trouvé  15\n"
     ]
    }
   ],
   "source": [
    "print(ch,len(ch))\n",
    "while i < len(ch):\n",
    "    if ch[i] == car:\n",
    "        print('le caractère est trouvé ',i)\n",
    "        break\n",
    "    i = i + 1\n",
    "    "
   ]
  },
  {
   "cell_type": "code",
   "execution_count": 23,
   "metadata": {},
   "outputs": [
    {
     "name": "stdin",
     "output_type": "stream",
     "text": [
      "Une chaîne de caractères : César & Cléopâtre\n",
      "Un caractère : r\n"
     ]
    },
    {
     "name": "stdout",
     "output_type": "stream",
     "text": [
      "le caractère est trouvé  4\n",
      "le caractère est trouvé  15\n"
     ]
    }
   ],
   "source": [
    "# Rechercher l'indice d'un caractère donné dans une chaîne\n",
    "ch = input('Une chaîne de caractères :')\n",
    "car = input('Un caractère :')\n",
    "\n",
    "i = 0\n",
    "\n",
    "controle = False\n",
    "while i < len(ch):\n",
    "    if ch[i] == car:\n",
    "        print('le caractère est trouvé ',i)\n",
    "        controle = True\n",
    "        #break\n",
    "    i = i + 1\n",
    "    \n",
    "if not controle :#= i >= len(ch) :\n",
    "    print(\"le caractère n'est pas trouvé \")"
   ]
  }
 ],
 "metadata": {
  "kernelspec": {
   "display_name": "Python 3 (ipykernel)",
   "language": "python",
   "name": "python3"
  },
  "language_info": {
   "codemirror_mode": {
    "name": "ipython",
    "version": 3
   },
   "file_extension": ".py",
   "mimetype": "text/x-python",
   "name": "python",
   "nbconvert_exporter": "python",
   "pygments_lexer": "ipython3",
   "version": "3.10.0"
  }
 },
 "nbformat": 4,
 "nbformat_minor": 4
}
