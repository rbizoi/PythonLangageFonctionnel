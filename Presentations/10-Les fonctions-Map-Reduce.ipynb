{
 "cells": [
  {
   "cell_type": "markdown",
   "metadata": {},
   "source": [
    "# L’écriture simplifiée des fonctions"
   ]
  },
  {
   "cell_type": "code",
   "execution_count": 12,
   "metadata": {},
   "outputs": [],
   "source": [
    "def min (x,y):\n",
    "    return (abs (x+y) - abs (x-y)) / 2"
   ]
  },
  {
   "cell_type": "code",
   "execution_count": 24,
   "metadata": {},
   "outputs": [
    {
     "data": {
      "text/plain": [
       "10.0"
      ]
     },
     "execution_count": 24,
     "metadata": {},
     "output_type": "execute_result"
    }
   ],
   "source": [
    "min = lambda x,y : (abs (x+y) - abs (x-y)) / 2\n",
    "min(10,20)"
   ]
  },
  {
   "cell_type": "code",
   "execution_count": 34,
   "metadata": {},
   "outputs": [
    {
     "name": "stdout",
     "output_type": "stream",
     "text": [
      "1.0\n",
      "4.0\n",
      "1.0\n",
      "4.0\n"
     ]
    }
   ],
   "source": [
    "min = lambda x,y : (abs (x+y) - abs (x-y)) / 2\n",
    "print(min(1,2))\n",
    "\n",
    "print(min(5,4))\n",
    "\n",
    "def  min(x,y):\n",
    "    return (abs (x+y) - abs (x-y))/2\n",
    "\n",
    "print(min(1,2))\n",
    "print(min(5,4))"
   ]
  },
  {
   "cell_type": "code",
   "execution_count": 9,
   "metadata": {},
   "outputs": [],
   "source": [
    "fs = []\n",
    "for a in range (0,5) : \n",
    "    f = lambda x : x + a \n",
    "    fs.append(f)"
   ]
  },
  {
   "cell_type": "code",
   "execution_count": null,
   "metadata": {},
   "outputs": [],
   "source": []
  },
  {
   "cell_type": "code",
   "execution_count": 8,
   "metadata": {},
   "outputs": [
    {
     "name": "stdout",
     "output_type": "stream",
     "text": [
      "4 \n",
      "\n",
      "5 5 5 5 5 6 6 6 6 6 "
     ]
    }
   ],
   "source": [
    "fs = []\n",
    "for a in range (0,5) : \n",
    "    f = lambda x : x + a \n",
    "    fs.append(f)\n",
    "\n",
    "print(a,'\\n')\n",
    "\n",
    "for f in fs :\n",
    "    print(f(1),end=' ')\n",
    "    \n",
    "for f in fs :\n",
    "    print(f(2),end=' ')    "
   ]
  },
  {
   "cell_type": "code",
   "execution_count": 10,
   "metadata": {},
   "outputs": [
    {
     "name": "stdout",
     "output_type": "stream",
     "text": [
      "x  + 0\n",
      "x  + 1\n",
      "x  + 2\n",
      "x  + 3\n",
      "x  + 4\n",
      "1\n",
      "2\n",
      "3\n",
      "4\n",
      "5\n"
     ]
    }
   ],
   "source": [
    "fs = []\n",
    "for a in range (0,5) :\n",
    "    f = lambda x,y=a : x + y\n",
    "    print(f'x  + { a}')\n",
    "    fs.append(f)\n",
    "\n",
    "for f in fs :\n",
    "    print(f(1))"
   ]
  },
  {
   "cell_type": "markdown",
   "metadata": {},
   "source": [
    "## La fonction map"
   ]
  },
  {
   "cell_type": "code",
   "execution_count": 5,
   "metadata": {},
   "outputs": [
    {
     "data": {
      "text/plain": [
       "[1, 2, 3, 4, 5, 6]"
      ]
     },
     "execution_count": 5,
     "metadata": {},
     "output_type": "execute_result"
    }
   ],
   "source": [
    "[ i for i in [1,2,3,4,5,6]]"
   ]
  },
  {
   "cell_type": "code",
   "execution_count": 4,
   "metadata": {},
   "outputs": [
    {
     "data": {
      "text/plain": [
       "[5, 4, 9, 8]"
      ]
     },
     "execution_count": 4,
     "metadata": {},
     "output_type": "execute_result"
    }
   ],
   "source": [
    "liste = ['chien', 'chat', 'crocodile', 'éléphant']\n",
    "list(map(lambda x: len(x),liste))"
   ]
  },
  {
   "cell_type": "code",
   "execution_count": 7,
   "metadata": {},
   "outputs": [
    {
     "data": {
      "text/plain": [
       "[1, 0, 1, 0]"
      ]
     },
     "execution_count": 7,
     "metadata": {},
     "output_type": "execute_result"
    }
   ],
   "source": [
    "liste = ['chien', 'chat', 'crocodile', 'éléphant']\n",
    "list(map(lambda x: len(x)%2, liste))"
   ]
  },
  {
   "cell_type": "code",
   "execution_count": null,
   "metadata": {},
   "outputs": [],
   "source": []
  },
  {
   "cell_type": "code",
   "execution_count": 22,
   "metadata": {},
   "outputs": [
    {
     "data": {
      "text/plain": [
       "[4, 9, 16]"
      ]
     },
     "execution_count": 22,
     "metadata": {},
     "output_type": "execute_result"
    }
   ],
   "source": [
    "list(map(lambda x: x**2, (2,3,4)))"
   ]
  },
  {
   "cell_type": "code",
   "execution_count": 24,
   "metadata": {},
   "outputs": [
    {
     "data": {
      "text/plain": [
       "64"
      ]
     },
     "execution_count": 24,
     "metadata": {},
     "output_type": "execute_result"
    }
   ],
   "source": [
    "a = lambda x,y: x**y\n",
    "a(4,3)"
   ]
  },
  {
   "cell_type": "code",
   "execution_count": 18,
   "metadata": {},
   "outputs": [],
   "source": [
    "def pow01(x,y):\n",
    "    return x**y"
   ]
  },
  {
   "cell_type": "code",
   "execution_count": 16,
   "metadata": {},
   "outputs": [
    {
     "data": {
      "text/plain": [
       "[0, 1, 512, 0.3333333333333333]"
      ]
     },
     "execution_count": 16,
     "metadata": {},
     "output_type": "execute_result"
    }
   ],
   "source": [
    "l1 = [0,1,2,3]\n",
    "l2 = [2,5,9,-1]\n",
    "list(map(lambda x,y: x**y, l1,l2))"
   ]
  },
  {
   "cell_type": "code",
   "execution_count": 19,
   "metadata": {},
   "outputs": [
    {
     "name": "stdout",
     "output_type": "stream",
     "text": [
      "0 (0, 2)\n",
      "1 (1, 5)\n",
      "2 (2, 9)\n",
      "3 (3, -1)\n"
     ]
    }
   ],
   "source": [
    "for i,val in enumerate(zip(l1,l2)):\n",
    "    print(i,val)"
   ]
  },
  {
   "cell_type": "code",
   "execution_count": 20,
   "metadata": {},
   "outputs": [
    {
     "name": "stdout",
     "output_type": "stream",
     "text": [
      "b : [4, 9, 16]\n",
      "[49, 125, 0.1111111111111111]\n"
     ]
    },
    {
     "data": {
      "text/plain": [
       "36.5"
      ]
     },
     "execution_count": 20,
     "metadata": {},
     "output_type": "execute_result"
    }
   ],
   "source": [
    "a = lambda x: x**2\n",
    "b = list(map(a, (2,3,4)))\n",
    "print('b :',b)\n",
    "print(list(map(pow, (7, 5, 3), (2, 3, -2))))\n",
    "a, c = [1,2,3,4,5], [2, -3, 5,7, -0.5]\n",
    "mul = lambda x, y: x*y\n",
    "d = sum(map(mul, a,c))\n",
    "d"
   ]
  },
  {
   "cell_type": "code",
   "execution_count": 21,
   "metadata": {},
   "outputs": [
    {
     "data": {
      "text/plain": [
       "[2, -6, 15, 28, -2.5]"
      ]
     },
     "execution_count": 21,
     "metadata": {},
     "output_type": "execute_result"
    }
   ],
   "source": [
    "list(map(mul, a,c))"
   ]
  },
  {
   "cell_type": "code",
   "execution_count": 27,
   "metadata": {},
   "outputs": [
    {
     "data": {
      "text/plain": [
       "array([0, 2, 9, 6])"
      ]
     },
     "execution_count": 27,
     "metadata": {},
     "output_type": "execute_result"
    }
   ],
   "source": [
    "import numpy as np\n",
    "np.array([0,2,9,6])"
   ]
  },
  {
   "cell_type": "code",
   "execution_count": null,
   "metadata": {},
   "outputs": [],
   "source": []
  },
  {
   "cell_type": "code",
   "execution_count": null,
   "metadata": {},
   "outputs": [],
   "source": []
  },
  {
   "cell_type": "code",
   "execution_count": null,
   "metadata": {},
   "outputs": [],
   "source": []
  },
  {
   "cell_type": "code",
   "execution_count": 49,
   "metadata": {},
   "outputs": [
    {
     "name": "stdout",
     "output_type": "stream",
     "text": [
      "[25, 125]\n"
     ]
    }
   ],
   "source": [
    "sq = lambda x: x**2\n",
    "cu = lambda y: y**3\n",
    "fc = (sq,cu)\n",
    "#Retour carré & cube de r - utilisation de 'map'\n",
    "def vv(r): return list(map(lambda z: z(r), fc))\n",
    "res1 = vv(5)\n",
    "print(res1)"
   ]
  },
  {
   "cell_type": "code",
   "execution_count": 51,
   "metadata": {},
   "outputs": [
    {
     "data": {
      "text/plain": [
       "(7.0, 18.66666666666667)"
      ]
     },
     "execution_count": 51,
     "metadata": {},
     "output_type": "execute_result"
    }
   ],
   "source": [
    "def meva(dd):\n",
    "    'Avec dd comme sequence de nombres,\\n\\\n",
    "    retrouvez leur moyenne et variance'\n",
    "    bb = len(dd) \n",
    "    med = sum(dd)/bb \n",
    "    vr = sum(list(map(sq,dd)))/bb - med**2 \n",
    "    return med, vr\n",
    "\n",
    "seq = [0.0, 1.0, 2.0, 3.0, 4.0, 5.0, \\\n",
    "   6.0, 7.0, 8.0, 9.0, 10.0, 11.0, \\\n",
    "   12.0, 13.0, 14.0]\n",
    "res1 = meva(seq)\n",
    "res1"
   ]
  },
  {
   "cell_type": "code",
   "execution_count": 39,
   "metadata": {},
   "outputs": [
    {
     "data": {
      "text/plain": [
       "[48, 49, 50, 51, 52, 53, 54]"
      ]
     },
     "execution_count": 39,
     "metadata": {},
     "output_type": "execute_result"
    }
   ],
   "source": [
    "simb = '0123456'\n",
    "ord(simb[0])\n",
    "[ord(x) for x in simb]"
   ]
  },
  {
   "cell_type": "code",
   "execution_count": 42,
   "metadata": {},
   "outputs": [
    {
     "data": {
      "text/plain": [
       "[48, 49, 50, 51, 52, 53, 54]"
      ]
     },
     "execution_count": 42,
     "metadata": {},
     "output_type": "execute_result"
    }
   ],
   "source": [
    "list(map(ord,simb))"
   ]
  },
  {
   "cell_type": "code",
   "execution_count": 48,
   "metadata": {},
   "outputs": [
    {
     "data": {
      "text/plain": [
       "False"
      ]
     },
     "execution_count": 48,
     "metadata": {},
     "output_type": "execute_result"
    }
   ],
   "source": [
    "def f(c):\n",
    "    return ord(c) > 50\n",
    "    \n",
    "f(simb[0])"
   ]
  },
  {
   "cell_type": "code",
   "execution_count": 50,
   "metadata": {},
   "outputs": [
    {
     "data": {
      "text/plain": [
       "['6', '8', '4', '5', '3', '4', '5', '6']"
      ]
     },
     "execution_count": 50,
     "metadata": {},
     "output_type": "execute_result"
    }
   ],
   "source": [
    "list(filter(f,'68014253456'))"
   ]
  },
  {
   "cell_type": "code",
   "execution_count": 30,
   "metadata": {},
   "outputs": [
    {
     "name": "stdout",
     "output_type": "stream",
     "text": [
      "a\n",
      "b\n",
      "c\n",
      "d\n",
      "e\n",
      "f\n",
      "g\n",
      "h\n"
     ]
    }
   ],
   "source": [
    "a = \"abcdefgh\"\n",
    "for i in a: print(i)"
   ]
  },
  {
   "cell_type": "code",
   "execution_count": 32,
   "metadata": {},
   "outputs": [
    {
     "data": {
      "text/plain": [
       "'b'"
      ]
     },
     "execution_count": 32,
     "metadata": {},
     "output_type": "execute_result"
    }
   ],
   "source": [
    "next(b)"
   ]
  },
  {
   "cell_type": "code",
   "execution_count": 31,
   "metadata": {},
   "outputs": [
    {
     "data": {
      "text/plain": [
       "'a'"
      ]
     },
     "execution_count": 31,
     "metadata": {},
     "output_type": "execute_result"
    }
   ],
   "source": [
    "b = iter(a)\n",
    "next(b)"
   ]
  },
  {
   "cell_type": "code",
   "execution_count": 35,
   "metadata": {},
   "outputs": [
    {
     "data": {
      "text/plain": [
       "'chien'"
      ]
     },
     "execution_count": 35,
     "metadata": {},
     "output_type": "execute_result"
    }
   ],
   "source": [
    "liste = ['chien', 'chat', 'crocodile', 'éléphant']\n",
    "l1 = iter(liste)\n",
    "next(l1)"
   ]
  },
  {
   "cell_type": "code",
   "execution_count": 36,
   "metadata": {},
   "outputs": [
    {
     "data": {
      "text/plain": [
       "'chat'"
      ]
     },
     "execution_count": 36,
     "metadata": {},
     "output_type": "execute_result"
    }
   ],
   "source": [
    "next(l1)"
   ]
  },
  {
   "cell_type": "code",
   "execution_count": 68,
   "metadata": {},
   "outputs": [
    {
     "name": "stdout",
     "output_type": "stream",
     "text": [
      "a\n",
      "b\n",
      "c\n",
      "d\n",
      "e\n",
      "f\n",
      "g\n",
      "h\n"
     ]
    }
   ],
   "source": [
    "for i in a: print(i)"
   ]
  },
  {
   "cell_type": "markdown",
   "metadata": {},
   "source": [
    "## La fonction reduce"
   ]
  },
  {
   "cell_type": "code",
   "execution_count": 7,
   "metadata": {},
   "outputs": [],
   "source": [
    "from itertools import accumulate\n",
    "from operator import add, mul\n",
    "from functools import reduce\n",
    "from math import prod"
   ]
  },
  {
   "cell_type": "code",
   "execution_count": 2,
   "metadata": {},
   "outputs": [
    {
     "name": "stdout",
     "output_type": "stream",
     "text": [
      "10\n",
      "--------------------\n",
      "10\n"
     ]
    }
   ],
   "source": [
    "add(1, 2)\n",
    "numbers = [1, 2, 3, 4]\n",
    "print(reduce(add, numbers))\n",
    "\n",
    "print('-' * 20)\n",
    "numbers = [1, 2, 3, 4]\n",
    "\n",
    "print(sum(numbers))"
   ]
  },
  {
   "cell_type": "code",
   "execution_count": 3,
   "metadata": {},
   "outputs": [],
   "source": [
    "def my_add(a, b):\n",
    "    result = a + b\n",
    "    print(f\"{a} + {b} = {result}\")\n",
    "    return result\n",
    "def my_add2(a, b):\n",
    "    return a + b"
   ]
  },
  {
   "cell_type": "code",
   "execution_count": 4,
   "metadata": {},
   "outputs": [
    {
     "name": "stdout",
     "output_type": "stream",
     "text": [
      "0 + 1 = 1\n",
      "1 + 2 = 3\n",
      "3 + 3 = 6\n",
      "6 + 4 = 10\n",
      "--------------------\n",
      "100 + 0 = 100\n",
      "100 + 1 = 101\n",
      "101 + 2 = 103\n",
      "103 + 3 = 106\n",
      "106 + 4 = 110\n",
      "--------------------\n",
      "--------------------\n",
      "10\n",
      "--------------------\n",
      "10\n",
      "--------------------\n",
      "10\n"
     ]
    }
   ],
   "source": [
    "numbers = [0, 1, 2, 3, 4]\n",
    "\n",
    "reduce(my_add, numbers)\n",
    "print('-'*20)\n",
    "reduce(my_add, numbers, 100)\n",
    "print('-'*20)\n",
    "reduce(my_add, [], 0)\n",
    "print('-'*20)\n",
    "numbers = [1, 2, 3, 4]\n",
    "total = 0\n",
    "for num in numbers:\n",
    "    total += num\n",
    "\n",
    "print(total)\n",
    "print('-'*20)\n",
    "numbers = [1, 2, 3, 4]\n",
    "\n",
    "print(reduce(my_add2, numbers))\n",
    "print('-' * 20)\n",
    "print(reduce(lambda a, b: a + b, numbers))"
   ]
  },
  {
   "cell_type": "code",
   "execution_count": 5,
   "metadata": {},
   "outputs": [
    {
     "name": "stdout",
     "output_type": "stream",
     "text": [
      "--------------------\n",
      "[1, 3, 6, 10]\n",
      "--------------------\n",
      "10\n",
      "--------------------\n",
      "[1, 2, 6, 24]\n",
      "--------------------\n",
      "24\n"
     ]
    }
   ],
   "source": [
    "numbers = [1, 2, 3, 4]\n",
    "print('-' * 20)\n",
    "print(list(accumulate(numbers)))\n",
    "print('-' * 20)\n",
    "print(reduce(add, numbers))\n",
    "print('-' * 20)\n",
    "print(list(accumulate(numbers,mul)))\n",
    "print('-' * 20)\n",
    "print(reduce(mul, numbers))"
   ]
  },
  {
   "cell_type": "code",
   "execution_count": 6,
   "metadata": {},
   "outputs": [
    {
     "name": "stdout",
     "output_type": "stream",
     "text": [
      "1\n",
      "--------------------\n",
      "7\n",
      "3 5 2 4 7 1\n",
      "--------------------\n",
      "1\n",
      "--------------------\n",
      "7\n"
     ]
    }
   ],
   "source": [
    "numbers = [3, 5, 2, 4, 7, 1]\n",
    "\n",
    "# Minimum\n",
    "min_value, *rest = numbers\n",
    "for num in rest:\n",
    "    if num < min_value:\n",
    "        min_value = num\n",
    "\n",
    "print(min_value)\n",
    "print('-' * 20)\n",
    "\n",
    "# Maximum\n",
    "max_value, *rest = numbers\n",
    "for num in rest:\n",
    "    if num > max_value:\n",
    "        max_value = num\n",
    "\n",
    "print(max_value)\n",
    "\n",
    "numbers = [3, 5, 2, 4, 7, 1]\n",
    "value1, value2, value3, *rest = numbers\n",
    "print(value1, value2, value3, *rest)\n",
    "\n",
    "numbers = [3, 5, 2, 4, 7, 1]\n",
    "print('-' * 20)\n",
    "# Minimum\n",
    "print(reduce(lambda a, b: a if a < b else b, numbers))\n",
    "\n",
    "print('-' * 20)\n",
    "# Maximum\n",
    "print(reduce(lambda a, b: a if a > b else b, numbers))\n"
   ]
  },
  {
   "cell_type": "code",
   "execution_count": 8,
   "metadata": {},
   "outputs": [
    {
     "name": "stdout",
     "output_type": "stream",
     "text": [
      "24\n",
      "--------------------\n",
      "24\n",
      "--------------------\n",
      "24\n",
      "--------------------\n",
      "24\n",
      "--------------------\n",
      "24\n"
     ]
    }
   ],
   "source": [
    "def my_prod(a, b):\n",
    "    return a * b\n",
    "\n",
    "numbers = [1, 2, 3, 4]\n",
    "product = 1\n",
    "for num in numbers:\n",
    "    product *= num\n",
    "\n",
    "print(product)\n",
    "print('-' * 20)\n",
    "print(reduce(my_prod, numbers))\n",
    "\n",
    "print('-' * 20)\n",
    "print(reduce(lambda a, b: a * b, numbers))\n",
    "\n",
    "print('-' * 20)\n",
    "print(reduce(mul, numbers))\n",
    "\n",
    "print('-' * 20)\n",
    "print(prod(numbers))"
   ]
  },
  {
   "cell_type": "code",
   "execution_count": 9,
   "metadata": {},
   "outputs": [
    {
     "name": "stdout",
     "output_type": "stream",
     "text": [
      "--------------------\n",
      "6\n",
      "--------------------\n",
      "6\n",
      "[False, True, True]\n"
     ]
    }
   ],
   "source": [
    "def sum_even1(it):\n",
    "    return reduce(lambda x, y: x + y if not y % 2 else x, it, 0)\n",
    "\n",
    "\n",
    "def sum_even2(iterable):\n",
    "    return sum(num for num in iterable if not num % 2)\n",
    "\n",
    "print('-' * 20)\n",
    "print(sum_even1([1, 2, 3, 4]))\n",
    "print('-' * 20)\n",
    "print(sum_even2([1, 2, 3, 4]))\n",
    "\n",
    "\n",
    "print(list(map(lambda x : bool(x%2==0), [1,0,2])))"
   ]
  },
  {
   "cell_type": "code",
   "execution_count": 1,
   "metadata": {},
   "outputs": [
    {
     "name": "stdout",
     "output_type": "stream",
     "text": [
      "-------------------- \n",
      " functools.reduce(add, range(100))\n",
      "2.4148744799995256\n",
      "-------------------- \n",
      " functools.reduce(lambda x, y: x + y, range(100))\n",
      "2.430796009000005\n",
      "-------------------- \n",
      " functools.reduce(operator.add, range(100))\n",
      "1.0983129300002474\n",
      "-------------------- \n",
      "Using sum()\n",
      "0.3478954539996266\n"
     ]
    }
   ],
   "source": [
    "from functools import reduce\n",
    "from timeit import timeit\n",
    "\n",
    "# Using a user-defined function\n",
    "def add(a, b):\n",
    "    return a + b\n",
    "\n",
    "use_add = \"functools.reduce(add, range(100))\"\n",
    "print('-' * 20,'\\n',use_add)\n",
    "print(timeit(use_add, \"import functools\", globals={\"add\": add}))\n",
    "\n",
    "# Using a lambda expression\n",
    "use_lambda = \"functools.reduce(lambda x, y: x + y, range(100))\"\n",
    "print('-' * 20,'\\n',use_lambda)\n",
    "print(timeit(use_lambda, \"import functools\"))\n",
    "\n",
    "# Using operator.add()\n",
    "use_operator_add = \"functools.reduce(operator.add, range(100))\"\n",
    "print('-' * 20,'\\n',use_operator_add)\n",
    "print(timeit(use_operator_add, \"import functools, operator\"))\n",
    "\n",
    "# Using sum()\n",
    "print('-' * 20,'\\nUsing sum()')\n",
    "print(timeit(\"sum(range(100))\", globals={\"sum\": sum}))"
   ]
  },
  {
   "cell_type": "code",
   "execution_count": null,
   "metadata": {},
   "outputs": [],
   "source": []
  },
  {
   "cell_type": "code",
   "execution_count": null,
   "metadata": {},
   "outputs": [],
   "source": []
  },
  {
   "cell_type": "markdown",
   "metadata": {},
   "source": [
    "# Les fonctions générateur"
   ]
  },
  {
   "cell_type": "code",
   "execution_count": 37,
   "metadata": {
    "ExecuteTime": {
     "end_time": "2019-07-08T12:55:20.737839Z",
     "start_time": "2019-07-08T12:55:20.706593Z"
    }
   },
   "outputs": [
    {
     "name": "stdout",
     "output_type": "stream",
     "text": [
      "yield 1  0\n",
      "0\n",
      "yield 1  1\n",
      "1\n",
      "yield 1  2\n",
      "2\n",
      "yield 1  3\n",
      "3\n",
      "yield 2  4\n",
      "4\n"
     ]
    }
   ],
   "source": [
    "def fonction_yield(n):\n",
    "    i = 0\n",
    "    while i < n-1:\n",
    "        print(\"yield 1 \", i)\n",
    "        yield i\n",
    "        i = i+1\n",
    "    print(\"yield 2 \", i)\n",
    "    yield i\n",
    "\n",
    "for a in fonction_yield(5):\n",
    "    print(a)"
   ]
  },
  {
   "cell_type": "code",
   "execution_count": 4,
   "metadata": {
    "ExecuteTime": {
     "end_time": "2019-07-08T12:56:00.791676Z",
     "start_time": "2019-07-08T12:56:00.776054Z"
    }
   },
   "outputs": [
    {
     "name": "stdout",
     "output_type": "stream",
     "text": [
      "yield 1  0\n",
      "yield 1  0\n"
     ]
    },
    {
     "data": {
      "text/plain": [
       "0"
      ]
     },
     "execution_count": 4,
     "metadata": {},
     "output_type": "execute_result"
    }
   ],
   "source": [
    "next(fonction_yield(2))\n",
    "next(fonction_yield(2))"
   ]
  },
  {
   "cell_type": "code",
   "execution_count": null,
   "metadata": {},
   "outputs": [],
   "source": []
  },
  {
   "cell_type": "code",
   "execution_count": 3,
   "metadata": {
    "ExecuteTime": {
     "end_time": "2019-07-08T12:55:48.181434Z",
     "start_time": "2019-07-08T12:55:48.150222Z"
    }
   },
   "outputs": [
    {
     "name": "stdout",
     "output_type": "stream",
     "text": [
      "yield 1  0\n"
     ]
    },
    {
     "data": {
      "text/plain": [
       "0"
      ]
     },
     "execution_count": 3,
     "metadata": {},
     "output_type": "execute_result"
    }
   ],
   "source": [
    "next(fonction_yield(2))"
   ]
  },
  {
   "cell_type": "code",
   "execution_count": null,
   "metadata": {},
   "outputs": [],
   "source": []
  },
  {
   "cell_type": "code",
   "execution_count": 54,
   "metadata": {},
   "outputs": [
    {
     "name": "stdout",
     "output_type": "stream",
     "text": [
      "yield 1  0\n",
      "0\n",
      "yield 1  1\n",
      "1\n",
      "yield 2  2\n",
      "2\n"
     ]
    }
   ],
   "source": [
    "for a in fonction_yield(3):\n",
    "    print(a)"
   ]
  },
  {
   "cell_type": "code",
   "execution_count": null,
   "metadata": {},
   "outputs": [],
   "source": []
  },
  {
   "cell_type": "code",
   "execution_count": null,
   "metadata": {},
   "outputs": [],
   "source": []
  },
  {
   "cell_type": "code",
   "execution_count": 10,
   "metadata": {},
   "outputs": [],
   "source": [
    "l = [1,3,5,7,9]"
   ]
  },
  {
   "cell_type": "code",
   "execution_count": 11,
   "metadata": {},
   "outputs": [
    {
     "data": {
      "text/plain": [
       "True"
      ]
     },
     "execution_count": 11,
     "metadata": {},
     "output_type": "execute_result"
    }
   ],
   "source": [
    "1 in l"
   ]
  }
 ],
 "metadata": {
  "kernelspec": {
   "display_name": "Python 3 (ipykernel)",
   "language": "python",
   "name": "python3"
  },
  "language_info": {
   "codemirror_mode": {
    "name": "ipython",
    "version": 3
   },
   "file_extension": ".py",
   "mimetype": "text/x-python",
   "name": "python",
   "nbconvert_exporter": "python",
   "pygments_lexer": "ipython3",
   "version": "3.10.15"
  }
 },
 "nbformat": 4,
 "nbformat_minor": 4
}
