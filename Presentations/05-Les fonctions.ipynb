{
 "cells": [
  {
   "cell_type": "markdown",
   "metadata": {},
   "source": [
    "# La définition d’une fonction"
   ]
  },
  {
   "cell_type": "code",
   "execution_count": 1,
   "metadata": {
    "ExecuteTime": {
     "end_time": "2019-07-08T11:41:26.683968Z",
     "start_time": "2019-07-08T11:41:26.652693Z"
    }
   },
   "outputs": [
    {
     "data": {
      "text/plain": [
       "35"
      ]
     },
     "execution_count": 1,
     "metadata": {},
     "output_type": "execute_result"
    }
   ],
   "source": [
    "import random\n",
    "int(random.random()*1000)"
   ]
  },
  {
   "cell_type": "code",
   "execution_count": 13,
   "metadata": {},
   "outputs": [
    {
     "data": {
      "text/plain": [
       "0.06577985810078069"
      ]
     },
     "execution_count": 13,
     "metadata": {},
     "output_type": "execute_result"
    }
   ],
   "source": [
    "import random as rd\n",
    "rd.random()"
   ]
  },
  {
   "cell_type": "code",
   "execution_count": 1,
   "metadata": {},
   "outputs": [
    {
     "data": {
      "text/plain": [
       "0.29134723425844355"
      ]
     },
     "execution_count": 1,
     "metadata": {},
     "output_type": "execute_result"
    }
   ],
   "source": [
    "from  random import random\n",
    "random()"
   ]
  },
  {
   "cell_type": "code",
   "execution_count": 56,
   "metadata": {},
   "outputs": [
    {
     "data": {
      "text/plain": [
       "0.7336422230918391"
      ]
     },
     "execution_count": 56,
     "metadata": {},
     "output_type": "execute_result"
    }
   ],
   "source": [
    "from  random import random as rd\n",
    "rd()"
   ]
  },
  {
   "cell_type": "code",
   "execution_count": 1,
   "metadata": {
    "ExecuteTime": {
     "end_time": "2019-07-08T11:44:29.813891Z",
     "start_time": "2019-07-08T11:44:29.798298Z"
    }
   },
   "outputs": [
    {
     "name": "stdout",
     "output_type": "stream",
     "text": [
      "aaaa\n"
     ]
    },
    {
     "data": {
      "text/plain": [
       "('aaaa', 1)"
      ]
     },
     "execution_count": 1,
     "metadata": {},
     "output_type": "execute_result"
    }
   ],
   "source": [
    "def nom_fonction():\n",
    "    \"\"\"\n",
    "     affichage de ma variable aaaa\n",
    "     return xxx\n",
    "    \"\"\"\n",
    "    print('aaaa')\n",
    "    return 'aaaa',1\n",
    "    \n",
    "a = nom_fonction()\n",
    "a"
   ]
  },
  {
   "cell_type": "code",
   "execution_count": 6,
   "metadata": {
    "ExecuteTime": {
     "end_time": "2019-07-08T11:43:58.368647Z",
     "start_time": "2019-07-08T11:43:58.353031Z"
    }
   },
   "outputs": [],
   "source": [
    "nom_fonction("
   ]
  },
  {
   "cell_type": "code",
   "execution_count": 9,
   "metadata": {
    "ExecuteTime": {
     "end_time": "2019-07-08T11:45:27.740370Z",
     "start_time": "2019-07-08T11:45:27.724748Z"
    }
   },
   "outputs": [
    {
     "name": "stdout",
     "output_type": "stream",
     "text": [
      "Help on function nom_fonction in module __main__:\n",
      "\n",
      "nom_fonction()\n",
      "    affichage de ma variable aaaa\n",
      "    return xxx\n",
      "\n"
     ]
    }
   ],
   "source": [
    "help(nom_fonction)"
   ]
  },
  {
   "cell_type": "code",
   "execution_count": null,
   "metadata": {},
   "outputs": [],
   "source": []
  },
  {
   "cell_type": "code",
   "execution_count": 64,
   "metadata": {},
   "outputs": [
    {
     "data": {
      "text/plain": [
       "10"
      ]
     },
     "execution_count": 64,
     "metadata": {},
     "output_type": "execute_result"
    }
   ],
   "source": [
    "from math import pi,\n",
    "pi\n",
    "pi = 10\n",
    "pi"
   ]
  },
  {
   "cell_type": "code",
   "execution_count": 65,
   "metadata": {},
   "outputs": [
    {
     "data": {
      "text/plain": [
       "10"
      ]
     },
     "execution_count": 65,
     "metadata": {},
     "output_type": "execute_result"
    }
   ],
   "source": [
    "pi"
   ]
  },
  {
   "cell_type": "code",
   "execution_count": 2,
   "metadata": {},
   "outputs": [
    {
     "name": "stdout",
     "output_type": "stream",
     "text": [
      "0.6649778082281405\n"
     ]
    }
   ],
   "source": [
    "#import random as rd\n",
    "#from  random import *\n",
    "from  random import random\n",
    "import math as mt\n",
    "\n",
    "\n",
    "def integrale_monte_carlo(a, b, f, n):\n",
    "    somme = 0.0\n",
    "    for i in range(0, n):\n",
    "        x = random() * (b-a) + a\n",
    "        y = f(x)\n",
    "        somme += f(x)\n",
    "    return somme / n\n",
    "\n",
    "def racine(x):\n",
    "    return mt.sqrt(x)\n",
    "\n",
    "print(integrale_monte_carlo(0, 1, racine, 100000))"
   ]
  },
  {
   "cell_type": "code",
   "execution_count": 29,
   "metadata": {
    "ExecuteTime": {
     "end_time": "2019-07-08T11:53:30.236763Z",
     "start_time": "2019-07-08T11:53:30.221144Z"
    }
   },
   "outputs": [
    {
     "name": "stdout",
     "output_type": "stream",
     "text": [
      "10 [0, 1, 2, 3]\n"
     ]
    },
    {
     "data": {
      "text/plain": [
       "(10, [0, 1, 2, 3])"
      ]
     },
     "execution_count": 29,
     "metadata": {},
     "output_type": "execute_result"
    }
   ],
   "source": [
    "a = 10\n",
    "b = [0,1,2,3]\n",
    "def nom_fonction0(b):\n",
    "    print(a,b)\n",
    "    return a,b\n",
    "nom_fonction0(b)"
   ]
  },
  {
   "cell_type": "code",
   "execution_count": 27,
   "metadata": {
    "ExecuteTime": {
     "end_time": "2019-07-08T11:51:53.165844Z",
     "start_time": "2019-07-08T11:51:53.134733Z"
    }
   },
   "outputs": [],
   "source": [
    "a = 10\n",
    "b = [0,1,2,3]\n",
    "def nom_fonction1(b):\n",
    "    global a\n",
    "    a += 10\n",
    "    b.append(a)\n",
    "    a = 30\n",
    "    print(a,b)\n",
    "    return a,b"
   ]
  },
  {
   "cell_type": "code",
   "execution_count": 28,
   "metadata": {
    "ExecuteTime": {
     "end_time": "2019-07-08T11:51:54.357653Z",
     "start_time": "2019-07-08T11:51:54.342032Z"
    }
   },
   "outputs": [
    {
     "name": "stdout",
     "output_type": "stream",
     "text": [
      "30 [0, 1, 2, 3, 20]\n",
      "(30, [0, 1, 2, 3, 20])\n"
     ]
    }
   ],
   "source": [
    "print(nom_fonction1(b))"
   ]
  },
  {
   "cell_type": "code",
   "execution_count": 25,
   "metadata": {
    "ExecuteTime": {
     "end_time": "2019-07-08T11:50:26.152223Z",
     "start_time": "2019-07-08T11:50:26.136562Z"
    }
   },
   "outputs": [
    {
     "data": {
      "text/plain": [
       "(30, [0, 1, 2, 3, 20])"
      ]
     },
     "execution_count": 25,
     "metadata": {},
     "output_type": "execute_result"
    }
   ],
   "source": [
    "a,b"
   ]
  },
  {
   "cell_type": "code",
   "execution_count": 59,
   "metadata": {},
   "outputs": [
    {
     "name": "stdout",
     "output_type": "stream",
     "text": [
      "7 14 21 28 35 42 49 56 63 70 \n",
      "\n",
      "[7, 14, 21, 28, 35, 42, 49, 56, 63, 70] \n",
      "\n",
      "[7, 14, 21, 28, 35, 42, 49, 56, 63, 70]\n"
     ]
    }
   ],
   "source": [
    "def table7():\n",
    "    t = list()\n",
    "    n = 1\n",
    "    while n < 11:\n",
    "        print(n * 7, end=' ')\n",
    "        t.append(n * 7)\n",
    "        n = n + 1\n",
    "    print('\\n')\n",
    "    print(t,end=' ')\n",
    "    print('\\n')\n",
    "    return t\n",
    "\n",
    "t = table7()\n",
    "\n",
    "print(t)"
   ]
  },
  {
   "cell_type": "code",
   "execution_count": 60,
   "metadata": {},
   "outputs": [
    {
     "name": "stdout",
     "output_type": "stream",
     "text": [
      "La table par 7 en triple exemplaire :\n",
      "7 14 21 28 35 42 49 56 63 70 \n",
      "\n",
      "[7, 14, 21, 28, 35, 42, 49, 56, 63, 70] \n",
      "\n",
      "7 14 21 28 35 42 49 56 63 70 \n",
      "\n",
      "[7, 14, 21, 28, 35, 42, 49, 56, 63, 70] \n",
      "\n",
      "7 14 21 28 35 42 49 56 63 70 \n",
      "\n",
      "[7, 14, 21, 28, 35, 42, 49, 56, 63, 70] \n",
      "\n",
      "[7, 14, 21, 28, 35, 42, 49, 56, 63, 70, 7, 14, 21, 28, 35, 42, 49, 56, 63, 70, 7, 14, 21, 28, 35, 42, 49, 56, 63, 70] "
     ]
    }
   ],
   "source": [
    "def table7triple():\n",
    "    t = list()\n",
    "    t = []\n",
    "    print('La table par 7 en triple exemplaire :')\n",
    "    t += table7()\n",
    "    t += table7()\n",
    "    t += table7()\n",
    "    return t\n",
    "\n",
    "print(table7triple(), end=' ')"
   ]
  },
  {
   "cell_type": "markdown",
   "metadata": {},
   "source": [
    "# La fonction avec paramètres"
   ]
  },
  {
   "cell_type": "code",
   "execution_count": 5,
   "metadata": {},
   "outputs": [
    {
     "name": "stdout",
     "output_type": "stream",
     "text": [
      "cartésien (1.000000,1.000000) --> polaire (1.414214,45.000000 degrés)\n"
     ]
    }
   ],
   "source": [
    "import math\n",
    "def coordonnees_polaires (x,y):\n",
    "    rho\t= math.sqrt(x*x+y*y)\n",
    "    theta\t= math.atan2 (y,x) \n",
    "    return rho, theta\n",
    "\n",
    "def affichage (x,y):\n",
    "    r,t = coordonnees_polaires(x,y)\n",
    "    print (\"cartésien (%f,%f) --> polaire (%f,%f degrés)\" \\\n",
    "        % (x,y,r,math.degrees(t)))\n",
    "\n",
    "affichage (1,1)"
   ]
  },
  {
   "cell_type": "code",
   "execution_count": 6,
   "metadata": {},
   "outputs": [
    {
     "name": "stdout",
     "output_type": "stream",
     "text": [
      "cartésien (0.500000,1.000000) --> polaire (1.118034,63.434949 degrés)\n",
      "cartésien (-0.500000,1.000000) --> polaire (1.118034,116.565051 degrés)\n",
      "cartésien (-0.500000,-1.000000) --> polaire (1.118034,-116.565051 degrés)\n",
      "cartésien (0.500000,-1.000000) --> polaire (1.118034,-63.434949 degrés)\n"
     ]
    }
   ],
   "source": [
    "affichage (0.5,1)\n",
    "affichage (-0.5,1)\n",
    "affichage (-0.5,-1)\n",
    "affichage (0.5,-1)"
   ]
  },
  {
   "cell_type": "code",
   "execution_count": 7,
   "metadata": {},
   "outputs": [
    {
     "name": "stdout",
     "output_type": "stream",
     "text": [
      "nom :  BIZOÏ\n",
      "prénom :  Razvan\n",
      "paiement :  chèque\n",
      "nombre :  1\n",
      "zone : 2\n"
     ]
    }
   ],
   "source": [
    "def commander_carte_orange (nom, prenom, \\\n",
    "       paiement = \"carte\", nombre = 1, zone = 2) : \n",
    "    print(\"nom : \",nom)\n",
    "    print(\"prénom : \",prenom)\n",
    "    print(\"paiement : \", paiement)\n",
    "    print(\"nombre : \", nombre)\n",
    "    print(\"zone :\", zone)\n",
    "\n",
    "commander_carte_orange(\"BIZOÏ\", \"Razvan\", \"chèque\")"
   ]
  },
  {
   "cell_type": "markdown",
   "metadata": {},
   "source": [
    "## L’ordre des paramètres"
   ]
  },
  {
   "cell_type": "code",
   "execution_count": 8,
   "metadata": {},
   "outputs": [
    {
     "name": "stdout",
     "output_type": "stream",
     "text": [
      "nom :  BIZOÏ\n",
      "prénom :  Razvan\n",
      "paiement :  carte\n",
      "nombre :  1\n",
      "zone : 2\n"
     ]
    }
   ],
   "source": [
    "commander_carte_orange(prenom=\"Razvan\",nom=\"BIZOÏ\")"
   ]
  },
  {
   "cell_type": "code",
   "execution_count": 82,
   "metadata": {},
   "outputs": [],
   "source": [
    "def commander_carte_orange (liste, a) : \n",
    "    liste[0] = \"BIZOI\"\n",
    "    a[0] = 0\n",
    "    print(liste,a)"
   ]
  },
  {
   "cell_type": "code",
   "execution_count": 83,
   "metadata": {},
   "outputs": [
    {
     "name": "stdout",
     "output_type": "stream",
     "text": [
      "['Duluc', 'Bizoi'] 5\n",
      "['BIZOI', 'Bizoi'] [0]\n",
      "['BIZOI', 'Bizoi'] 5\n"
     ]
    }
   ],
   "source": [
    "l = [\"Duluc\",\"Bizoi\"]\n",
    "a = 5\n",
    "print(l,a)\n",
    "commander_carte_orange(l, a)\n",
    "print(l,a)"
   ]
  },
  {
   "cell_type": "markdown",
   "metadata": {},
   "source": [
    "## Les paramètres modifiables"
   ]
  },
  {
   "cell_type": "code",
   "execution_count": 17,
   "metadata": {},
   "outputs": [
    {
     "name": "stdout",
     "output_type": "stream",
     "text": [
      "avant la fonction  3 [1, 2, 3, 4]\n",
      "après la fonction  3 [0, 2, 3, 4]\n",
      "somme :  6\n"
     ]
    }
   ],
   "source": [
    "def somme_n_premier_terme(n,liste):\n",
    "    \"\"\n",
    "    somme = 0\n",
    "    for i in liste: \n",
    "        somme += i\n",
    "        n -= 1\t\n",
    "        # modification de n (type immuable) \n",
    "        if n <= 0: break\n",
    "    liste[0] =  0\t\n",
    "    # modification de liste (type modifiable) \n",
    "    return somme,n\n",
    "\n",
    "l = [1,2,3,4]\n",
    "nb = 3\n",
    "print(\"avant la fonction \",nb,l)\n",
    "s,nb = somme_n_premier_terme (nb,l)\n",
    "print(\"après la fonction \",nb,l)\n",
    "print(\"somme : \", s)"
   ]
  },
  {
   "cell_type": "code",
   "execution_count": 61,
   "metadata": {
    "scrolled": true
   },
   "outputs": [
    {
     "name": "stdout",
     "output_type": "stream",
     "text": [
      "[0, 1, 2] [0, 1, 2]\n",
      "[10, 1, 2] [10, 1, 2]\n",
      "[10, 1, 2]\n"
     ]
    }
   ],
   "source": [
    "liste = [0,1,2]\n",
    "liste1 = liste\n",
    "print(liste,liste1)\n",
    "liste1[0] = 10\n",
    "print(liste,liste1)\n",
    "del liste1\n",
    "print(liste)"
   ]
  },
  {
   "cell_type": "code",
   "execution_count": 8,
   "metadata": {},
   "outputs": [
    {
     "name": "stdout",
     "output_type": "stream",
     "text": [
      "[0, 1, 2]\n",
      "[i for i in range(100)]\n",
      "[0, 1, 2]\n"
     ]
    }
   ],
   "source": [
    "def fonction (liste): \n",
    "    #liste = [i for i in range(100)]\n",
    "    liste = \"[i for i in range(100)]\"\n",
    "    print(liste)\n",
    "    #liste.append(liste1)\n",
    "    \n",
    "liste = [0,1,2]\n",
    "print(liste)\n",
    "fonction (liste)\n",
    "print(liste)"
   ]
  },
  {
   "cell_type": "code",
   "execution_count": 15,
   "metadata": {},
   "outputs": [
    {
     "name": "stdout",
     "output_type": "stream",
     "text": [
      "[0, 1, 2]\n",
      "[0, 1, 2]\n"
     ]
    }
   ],
   "source": [
    "def fonction (liste): \n",
    "    del liste\n",
    "\n",
    "print(liste)\n",
    "fonction (liste)\n",
    "print(liste)"
   ]
  },
  {
   "cell_type": "code",
   "execution_count": 21,
   "metadata": {},
   "outputs": [
    {
     "name": "stdout",
     "output_type": "stream",
     "text": [
      "[0, 1, 2]\n",
      "[]\n"
     ]
    }
   ],
   "source": [
    "def fonction (liste): \n",
    "    del liste[0:len(liste)]\n",
    "\n",
    "print(liste)\n",
    "fonction (liste)\n",
    "print(liste)"
   ]
  },
  {
   "cell_type": "markdown",
   "metadata": {},
   "source": [
    "# La fonction récursive"
   ]
  },
  {
   "cell_type": "code",
   "execution_count": 23,
   "metadata": {},
   "outputs": [
    {
     "data": {
      "text/plain": [
       "362880"
      ]
     },
     "execution_count": 23,
     "metadata": {},
     "output_type": "execute_result"
    }
   ],
   "source": [
    "def factorielle(n):\n",
    "    if n == 0 : return 1\n",
    "    else : return n * factorielle(n-1)\n",
    "    \n",
    "factorielle(9)"
   ]
  },
  {
   "cell_type": "code",
   "execution_count": 24,
   "metadata": {},
   "outputs": [
    {
     "data": {
      "text/plain": [
       "933262154439441526816992388562667004907159682643816214685929638952175999932299156089414639761565182862536979208272237582511852109168640000000000000000000000"
      ]
     },
     "execution_count": 24,
     "metadata": {},
     "output_type": "execute_result"
    }
   ],
   "source": [
    "factorielle(99)"
   ]
  },
  {
   "cell_type": "raw",
   "metadata": {},
   "source": [
    "factorielle(999)"
   ]
  },
  {
   "cell_type": "code",
   "execution_count": 26,
   "metadata": {},
   "outputs": [
    {
     "data": {
      "text/plain": [
       "402387260077093773543702433923003985719374864210714632543799910429938512398629020592044208486969404800479988610197196058631666872994808558901323829669944590997424504087073759918823627727188732519779505950995276120874975462497043601418278094646496291056393887437886487337119181045825783647849977012476632889835955735432513185323958463075557409114262417474349347553428646576611667797396668820291207379143853719588249808126867838374559731746136085379534524221586593201928090878297308431392844403281231558611036976801357304216168747609675871348312025478589320767169132448426236131412508780208000261683151027341827977704784635868170164365024153691398281264810213092761244896359928705114964975419909342221566832572080821333186116811553615836546984046708975602900950537616475847728421889679646244945160765353408198901385442487984959953319101723355556602139450399736280750137837615307127761926849034352625200015888535147331611702103968175921510907788019393178114194545257223865541461062892187960223838971476088506276862967146674697562911234082439208160153780889893964518263243671616762179168909779911903754031274622289988005195444414282012187361745992642956581746628302955570299024324153181617210465832036786906117260158783520751516284225540265170483304226143974286933061690897968482590125458327168226458066526769958652682272807075781391858178889652208164348344825993266043367660176999612831860788386150279465955131156552036093988180612138558600301435694527224206344631797460594682573103790084024432438465657245014402821885252470935190620929023136493273497565513958720559654228749774011413346962715422845862377387538230483865688976461927383814900140767310446640259899490222221765904339901886018566526485061799702356193897017860040811889729918311021171229845901641921068884387121855646124960798722908519296819372388642614839657382291123125024186649353143970137428531926649875337218940694281434118520158014123344828015051399694290153483077644569099073152433278288269864602789864321139083506217095002597389863554277196742822248757586765752344220207573630569498825087968928162753848863396909959826280956121450994871701244516461260379029309120889086942028510640182154399457156805941872748998094254742173582401063677404595741785160829230135358081840096996372524230560855903700624271243416909004153690105933983835777939410970027753472000000000000000000000000000000000000000000000000000000000000000000000000000000000000000000000000000000000000000000000000000000000000000000000000000000000000000000000000000000000000000000000000000000000000000000000000000000000000000000000000000000"
      ]
     },
     "execution_count": 26,
     "metadata": {},
     "output_type": "execute_result"
    }
   ],
   "source": [
    "def factorielle_non_recursive (n) : \n",
    "    r = 1\n",
    "    for i in range (2, n+1) : \n",
    "        r *= i\n",
    "    return r\n",
    "\n",
    "factorielle_non_recursive(999)"
   ]
  },
  {
   "cell_type": "markdown",
   "metadata": {},
   "source": [
    "## Les variables locales et globales"
   ]
  },
  {
   "cell_type": "code",
   "execution_count": 1,
   "metadata": {},
   "outputs": [
    {
     "name": "stdout",
     "output_type": "stream",
     "text": [
      "15 38\n",
      "20 38\n",
      "15 38\n"
     ]
    }
   ],
   "source": [
    "def mask():\n",
    "    p = 20\n",
    "    print(p, q)\n",
    "\n",
    "p, q = 15, 38\n",
    "print(p, q)\n",
    "mask()\n",
    "print(p, q)"
   ]
  },
  {
   "cell_type": "code",
   "execution_count": 15,
   "metadata": {},
   "outputs": [],
   "source": [
    "def mask():\n",
    "    #global q\n",
    "    p = 20\n",
    "    print(p, q, len(q))\n",
    "    #if len(q) :     \n",
    "    #q = 10"
   ]
  },
  {
   "cell_type": "code",
   "execution_count": 16,
   "metadata": {},
   "outputs": [
    {
     "name": "stdout",
     "output_type": "stream",
     "text": [
      "15 [1, 2, 3]\n",
      "20 [1, 2, 3] 3\n",
      "15 [1, 2, 3]\n"
     ]
    }
   ],
   "source": [
    "\n",
    "        \n",
    "q = [1,2,3]\n",
    "p = 15\n",
    "print(p, q)\n",
    "mask()\n",
    "print(p, q)"
   ]
  },
  {
   "cell_type": "code",
   "execution_count": 2,
   "metadata": {},
   "outputs": [],
   "source": [
    "del q"
   ]
  },
  {
   "cell_type": "code",
   "execution_count": 3,
   "metadata": {},
   "outputs": [
    {
     "name": "stdout",
     "output_type": "stream",
     "text": [
      "20 10\n",
      "20\n"
     ]
    }
   ],
   "source": [
    "def mask():\n",
    "    global q\n",
    "    q = 10\n",
    "    p = 20\n",
    "    print(p, q)\n",
    "    q = p                \n",
    "\n",
    "\n",
    "mask()\n",
    "print(q)"
   ]
  },
  {
   "cell_type": "code",
   "execution_count": null,
   "metadata": {},
   "outputs": [],
   "source": [
    "def monter():\n",
    "    global a\n",
    "    a = a+1\n",
    "    print(a)\n",
    "\n",
    "monter()"
   ]
  },
  {
   "cell_type": "code",
   "execution_count": 12,
   "metadata": {},
   "outputs": [
    {
     "name": "stdout",
     "output_type": "stream",
     "text": [
      "34\n",
      "35\n",
      "35\n"
     ]
    }
   ],
   "source": [
    "#a = 15\n",
    "monter()\n",
    "monter()\n",
    "print(a)"
   ]
  },
  {
   "cell_type": "markdown",
   "metadata": {},
   "source": [
    "# L’aide sur la fonction"
   ]
  },
  {
   "cell_type": "code",
   "execution_count": 32,
   "metadata": {},
   "outputs": [
    {
     "name": "stdout",
     "output_type": "stream",
     "text": [
      "Help on built-in function round in module builtins:\n",
      "\n",
      "round(...)\n",
      "    round(number[, ndigits]) -> number\n",
      "    \n",
      "    Round a number to a given precision in decimal digits (default 0 digits).\n",
      "    This returns an int when called with one argument, otherwise the\n",
      "    same type as the number. ndigits may be negative.\n",
      "\n"
     ]
    }
   ],
   "source": [
    "help(round)"
   ]
  },
  {
   "cell_type": "code",
   "execution_count": 33,
   "metadata": {},
   "outputs": [
    {
     "name": "stdout",
     "output_type": "stream",
     "text": [
      "Help on function coordonnees_polaires in module __main__:\n",
      "\n",
      "coordonnees_polaires(x, y)\n",
      "    convertit des coordonnées cartésiennes \n",
      "    en coordonnées polaires (x,y) --> (pho,theta)\n",
      "\n"
     ]
    }
   ],
   "source": [
    "def coordonnees_polaires (x,y):\n",
    "    \"\"\"convertit des coordonnées cartésiennes \\n\\\n",
    "    en coordonnées polaires (x,y) --> (pho,theta)\"\"\"\n",
    "    rho\t= math.sqrt(x*x+y*y)\n",
    "    theta\t= math.atan2 (y,x)\n",
    "    return rho, theta\n",
    "\n",
    "help(coordonnees_polaires)"
   ]
  },
  {
   "cell_type": "code",
   "execution_count": 25,
   "metadata": {},
   "outputs": [],
   "source": [
    "l = [0,1,2,3,4,5,6,7,8]\n",
    "l1 = l"
   ]
  },
  {
   "cell_type": "code",
   "execution_count": 26,
   "metadata": {},
   "outputs": [
    {
     "data": {
      "text/plain": [
       "2066349397896"
      ]
     },
     "execution_count": 26,
     "metadata": {},
     "output_type": "execute_result"
    }
   ],
   "source": [
    "id(l)"
   ]
  },
  {
   "cell_type": "code",
   "execution_count": 27,
   "metadata": {},
   "outputs": [
    {
     "data": {
      "text/plain": [
       "2066349397896"
      ]
     },
     "execution_count": 27,
     "metadata": {},
     "output_type": "execute_result"
    }
   ],
   "source": [
    "id(l1)"
   ]
  },
  {
   "cell_type": "code",
   "execution_count": 28,
   "metadata": {},
   "outputs": [
    {
     "name": "stdout",
     "output_type": "stream",
     "text": [
      "[0, 1, 2, 3, 4, 5, 6, 7, 8]\n"
     ]
    }
   ],
   "source": [
    "l2 = []\n",
    "for i in l: l2.append(l[i])\n",
    "print(l2)"
   ]
  },
  {
   "cell_type": "code",
   "execution_count": 29,
   "metadata": {},
   "outputs": [
    {
     "data": {
      "text/plain": [
       "2066349397704"
      ]
     },
     "execution_count": 29,
     "metadata": {},
     "output_type": "execute_result"
    }
   ],
   "source": [
    "id(l2)"
   ]
  },
  {
   "cell_type": "code",
   "execution_count": 1,
   "metadata": {
    "ExecuteTime": {
     "end_time": "2019-07-09T07:03:48.919328Z",
     "start_time": "2019-07-09T07:03:48.903708Z"
    }
   },
   "outputs": [],
   "source": [
    "l = [0, 1, 2, 3, 4, 5, 6, 7, 8]"
   ]
  },
  {
   "cell_type": "code",
   "execution_count": 2,
   "metadata": {
    "ExecuteTime": {
     "end_time": "2019-07-09T07:03:57.753753Z",
     "start_time": "2019-07-09T07:03:57.722674Z"
    }
   },
   "outputs": [
    {
     "name": "stdout",
     "output_type": "stream",
     "text": [
      "[0, 1, 4, 9, 16, 25, 36, 49, 64]\n"
     ]
    }
   ],
   "source": [
    "l3 = [i**2 for i in l]\n",
    "print(l3)"
   ]
  },
  {
   "cell_type": "code",
   "execution_count": 6,
   "metadata": {
    "ExecuteTime": {
     "end_time": "2019-07-09T07:05:15.270369Z",
     "start_time": "2019-07-09T07:05:15.254711Z"
    }
   },
   "outputs": [
    {
     "name": "stdout",
     "output_type": "stream",
     "text": [
      "0\n",
      "1\n",
      "2\n",
      "3\n",
      "4\n",
      "5\n",
      "6\n",
      "7\n",
      "8\n"
     ]
    },
    {
     "data": {
      "text/plain": [
       "[None, None, None, None, None, None, None, None, None]"
      ]
     },
     "execution_count": 6,
     "metadata": {},
     "output_type": "execute_result"
    }
   ],
   "source": [
    "list(map(print,l))"
   ]
  },
  {
   "cell_type": "code",
   "execution_count": 7,
   "metadata": {
    "ExecuteTime": {
     "end_time": "2019-07-09T07:07:05.296800Z",
     "start_time": "2019-07-09T07:07:05.281179Z"
    }
   },
   "outputs": [],
   "source": [
    "def carre(x):\n",
    "    return x**2"
   ]
  },
  {
   "cell_type": "code",
   "execution_count": 8,
   "metadata": {
    "ExecuteTime": {
     "end_time": "2019-07-09T07:07:11.140480Z",
     "start_time": "2019-07-09T07:07:11.124859Z"
    }
   },
   "outputs": [
    {
     "data": {
      "text/plain": [
       "[0, 1, 4, 9, 16, 25, 36, 49, 64]"
      ]
     },
     "execution_count": 8,
     "metadata": {},
     "output_type": "execute_result"
    }
   ],
   "source": [
    "list(map(carre,l))"
   ]
  },
  {
   "cell_type": "code",
   "execution_count": null,
   "metadata": {},
   "outputs": [],
   "source": [
    "def carre(x):\n",
    "    if str(x).isdigit():     return x**2\n",
    "    else :                   return x"
   ]
  },
  {
   "cell_type": "code",
   "execution_count": 19,
   "metadata": {
    "ExecuteTime": {
     "end_time": "2019-07-09T07:13:19.666079Z",
     "start_time": "2019-07-09T07:13:19.650455Z"
    }
   },
   "outputs": [],
   "source": [
    "l = [0, 1, 2, 3, '4a', 5, 6, 7, 8]"
   ]
  },
  {
   "cell_type": "code",
   "execution_count": 20,
   "metadata": {
    "ExecuteTime": {
     "end_time": "2019-07-09T07:13:21.487898Z",
     "start_time": "2019-07-09T07:13:21.472303Z"
    }
   },
   "outputs": [
    {
     "data": {
      "text/plain": [
       "[0, 1, 4, 9, '4a', 25, 36, 49, 64]"
      ]
     },
     "execution_count": 20,
     "metadata": {},
     "output_type": "execute_result"
    }
   ],
   "source": [
    "list(map(lambda x : x**2 if str(x).isdigit() else x,l))"
   ]
  },
  {
   "cell_type": "code",
   "execution_count": 10,
   "metadata": {
    "ExecuteTime": {
     "end_time": "2019-07-09T07:08:57.354487Z",
     "start_time": "2019-07-09T07:08:57.338846Z"
    }
   },
   "outputs": [
    {
     "name": "stdout",
     "output_type": "stream",
     "text": [
      "0\n",
      "1\n",
      "4\n",
      "9\n",
      "16\n",
      "25\n",
      "36\n",
      "49\n",
      "64\n"
     ]
    }
   ],
   "source": [
    "for x in l:\n",
    "    print(x**2)"
   ]
  },
  {
   "cell_type": "code",
   "execution_count": 34,
   "metadata": {},
   "outputs": [
    {
     "name": "stdout",
     "output_type": "stream",
     "text": [
      "1.8902099132537842\n"
     ]
    }
   ],
   "source": [
    "import time as t\n",
    "from random import random\n",
    "t0 = t.time()\n",
    "l4 = [random() for i in range(10000000)]\n",
    "print(t.time()  - t0)"
   ]
  },
  {
   "cell_type": "code",
   "execution_count": 36,
   "metadata": {},
   "outputs": [
    {
     "name": "stdout",
     "output_type": "stream",
     "text": [
      "3.155507802963257\n"
     ]
    }
   ],
   "source": [
    "import time as t\n",
    "from random import random\n",
    "t0 = t.time()\n",
    "l5 = []\n",
    "for i in range(10000000) : l5.append(random())\n",
    "print(t.time()  - t0)"
   ]
  },
  {
   "cell_type": "code",
   "execution_count": 37,
   "metadata": {},
   "outputs": [],
   "source": [
    "import copy as cp\n",
    "\n",
    "l6 = cp.copy(l5)\n",
    "#cp.deepcopy()\n"
   ]
  },
  {
   "cell_type": "markdown",
   "metadata": {},
   "source": [
    "# L’écriture simplifiée des fonctions"
   ]
  },
  {
   "cell_type": "code",
   "execution_count": 24,
   "metadata": {},
   "outputs": [
    {
     "data": {
      "text/plain": [
       "10.0"
      ]
     },
     "execution_count": 24,
     "metadata": {},
     "output_type": "execute_result"
    }
   ],
   "source": [
    "min = lambda x,y : (abs (x+y) - abs (x-y)) / 2\n",
    "min(10,20)"
   ]
  },
  {
   "cell_type": "code",
   "execution_count": 12,
   "metadata": {},
   "outputs": [],
   "source": [
    "def min (x,y):\n",
    "    return (abs (x+y) - abs (x-y)) / 2"
   ]
  },
  {
   "cell_type": "code",
   "execution_count": 34,
   "metadata": {},
   "outputs": [
    {
     "name": "stdout",
     "output_type": "stream",
     "text": [
      "1.0\n",
      "4.0\n",
      "1.0\n",
      "4.0\n"
     ]
    }
   ],
   "source": [
    "min = lambda x,y : (abs (x+y) - abs (x-y)) / 2\n",
    "print(min(1,2))\n",
    "\n",
    "print(min(5,4))\n",
    "\n",
    "def  min(x,y):\n",
    "    return (abs (x+y) - abs (x-y))/2\n",
    "\n",
    "print(min(1,2))\n",
    "print(min(5,4))"
   ]
  },
  {
   "cell_type": "code",
   "execution_count": 42,
   "metadata": {},
   "outputs": [
    {
     "name": "stdout",
     "output_type": "stream",
     "text": [
      "4 \n",
      "\n",
      "5 5 5 5 5 6 6 6 6 6 "
     ]
    }
   ],
   "source": [
    "fs = []\n",
    "for a in range (0,5) : \n",
    "    f = lambda x : x + a \n",
    "    fs.append(f)\n",
    "\n",
    "print(a,'\\n')\n",
    "\n",
    "for f in fs :\n",
    "    print(f(1),end=' ')\n",
    "    \n",
    "for f in fs :\n",
    "    print(f(2),end=' ')    "
   ]
  },
  {
   "cell_type": "code",
   "execution_count": 43,
   "metadata": {},
   "outputs": [
    {
     "name": "stdout",
     "output_type": "stream",
     "text": [
      "1\n",
      "2\n",
      "3\n",
      "4\n",
      "5\n"
     ]
    }
   ],
   "source": [
    "fs = []\n",
    "for a in range (0,5) :\n",
    "    f = lambda x,y=a : x + y\n",
    "    fs.append(f)\n",
    "\n",
    "for f in fs :\n",
    "    print(f(1))"
   ]
  },
  {
   "cell_type": "markdown",
   "metadata": {},
   "source": [
    "## map"
   ]
  },
  {
   "cell_type": "code",
   "execution_count": 32,
   "metadata": {},
   "outputs": [],
   "source": [
    "def puissance (x,y=3):\n",
    "    return x**y"
   ]
  },
  {
   "cell_type": "code",
   "execution_count": 33,
   "metadata": {},
   "outputs": [
    {
     "data": {
      "text/plain": [
       "[8, 27, 64]"
      ]
     },
     "execution_count": 33,
     "metadata": {},
     "output_type": "execute_result"
    }
   ],
   "source": [
    "list(map(puissance, (2,3,4)))"
   ]
  },
  {
   "cell_type": "code",
   "execution_count": 34,
   "metadata": {},
   "outputs": [
    {
     "data": {
      "text/plain": [
       "[8, 27, 64]"
      ]
     },
     "execution_count": 34,
     "metadata": {},
     "output_type": "execute_result"
    }
   ],
   "source": [
    "[puissance(x,3) for x in (2,3,4)]"
   ]
  },
  {
   "cell_type": "code",
   "execution_count": 35,
   "metadata": {},
   "outputs": [
    {
     "data": {
      "text/plain": [
       "[16, 81, 256]"
      ]
     },
     "execution_count": 35,
     "metadata": {},
     "output_type": "execute_result"
    }
   ],
   "source": [
    "[puissance(x,4) for x in (2,3,4)]"
   ]
  },
  {
   "cell_type": "code",
   "execution_count": 37,
   "metadata": {},
   "outputs": [],
   "source": [
    "import functools "
   ]
  },
  {
   "cell_type": "code",
   "execution_count": 40,
   "metadata": {},
   "outputs": [
    {
     "data": {
      "text/plain": [
       "[16, 81, 256]"
      ]
     },
     "execution_count": 40,
     "metadata": {},
     "output_type": "execute_result"
    }
   ],
   "source": [
    "list(map(functools.partial(puissance, y=4),  (2,3,4)))"
   ]
  },
  {
   "cell_type": "code",
   "execution_count": 22,
   "metadata": {},
   "outputs": [
    {
     "data": {
      "text/plain": [
       "[4, 9, 16]"
      ]
     },
     "execution_count": 22,
     "metadata": {},
     "output_type": "execute_result"
    }
   ],
   "source": [
    "list(map(lambda x: x**2, (2,3,4)))"
   ]
  },
  {
   "cell_type": "code",
   "execution_count": 24,
   "metadata": {},
   "outputs": [
    {
     "data": {
      "text/plain": [
       "64"
      ]
     },
     "execution_count": 24,
     "metadata": {},
     "output_type": "execute_result"
    }
   ],
   "source": [
    "a = lambda x,y: x**y\n",
    "a(4,3)"
   ]
  },
  {
   "cell_type": "code",
   "execution_count": 28,
   "metadata": {},
   "outputs": [
    {
     "data": {
      "text/plain": [
       "[0, 1, 512]"
      ]
     },
     "execution_count": 28,
     "metadata": {},
     "output_type": "execute_result"
    }
   ],
   "source": [
    "l1 = [0,1,2,3]\n",
    "l2 = [2,5,9]\n",
    "list(map(lambda x,y: x**y, l1,l2))"
   ]
  },
  {
   "cell_type": "code",
   "execution_count": 47,
   "metadata": {},
   "outputs": [
    {
     "name": "stdout",
     "output_type": "stream",
     "text": [
      "b : [4, 9, 16]\n",
      "[49, 125, 0.1111111111111111]\n"
     ]
    },
    {
     "data": {
      "text/plain": [
       "36.5"
      ]
     },
     "execution_count": 47,
     "metadata": {},
     "output_type": "execute_result"
    }
   ],
   "source": [
    "a = lambda x: x**2\n",
    "b = list(map(a, (2,3,4)))\n",
    "print('b :',b)\n",
    "print(list(map(pow, (7, 5, 3), (2, 3, -2))))\n",
    "a, c = [1,2,3,4,5], [2, -3, 5,7, -0.5]\n",
    "mul = lambda x, y: x*y\n",
    "d = sum(map(mul, a,c))\n",
    "d"
   ]
  },
  {
   "cell_type": "code",
   "execution_count": 49,
   "metadata": {},
   "outputs": [
    {
     "name": "stdout",
     "output_type": "stream",
     "text": [
      "[25, 125]\n"
     ]
    }
   ],
   "source": [
    "sq = lambda x: x**2\n",
    "cu = lambda y: y**3\n",
    "fc = (sq,cu)\n",
    "#Retour carré & cube de r - utilisation de 'map'\n",
    "def vv(r): return list(map(lambda z: z(r), fc))\n",
    "res1 = vv(5)\n",
    "print(res1)"
   ]
  },
  {
   "cell_type": "code",
   "execution_count": 51,
   "metadata": {},
   "outputs": [
    {
     "data": {
      "text/plain": [
       "(7.0, 18.66666666666667)"
      ]
     },
     "execution_count": 51,
     "metadata": {},
     "output_type": "execute_result"
    }
   ],
   "source": [
    "def meva(dd):\n",
    "    'Avec dd comme sequence de nombres,\\n\\\n",
    "    retrouvez leur moyenne et variance'\n",
    "    bb = len(dd) \n",
    "    med = sum(dd)/bb \n",
    "    vr = sum(list(map(sq,dd)))/bb - med**2 \n",
    "    return med, vr\n",
    "\n",
    "seq = [0.0, 1.0, 2.0, 3.0, 4.0, 5.0, \\\n",
    "   6.0, 7.0, 8.0, 9.0, 10.0, 11.0, \\\n",
    "   12.0, 13.0, 14.0]\n",
    "res1 = meva(seq)\n",
    "res1"
   ]
  },
  {
   "cell_type": "code",
   "execution_count": 39,
   "metadata": {},
   "outputs": [
    {
     "data": {
      "text/plain": [
       "[48, 49, 50, 51, 52, 53, 54]"
      ]
     },
     "execution_count": 39,
     "metadata": {},
     "output_type": "execute_result"
    }
   ],
   "source": [
    "simb = '0123456'\n",
    "ord(simb[0])\n",
    "[ord(x) for x in simb]"
   ]
  },
  {
   "cell_type": "code",
   "execution_count": 42,
   "metadata": {},
   "outputs": [
    {
     "data": {
      "text/plain": [
       "[48, 49, 50, 51, 52, 53, 54]"
      ]
     },
     "execution_count": 42,
     "metadata": {},
     "output_type": "execute_result"
    }
   ],
   "source": [
    "list(map(ord,simb))"
   ]
  },
  {
   "cell_type": "code",
   "execution_count": 48,
   "metadata": {},
   "outputs": [
    {
     "data": {
      "text/plain": [
       "False"
      ]
     },
     "execution_count": 48,
     "metadata": {},
     "output_type": "execute_result"
    }
   ],
   "source": [
    "def f(c):\n",
    "    return ord(c) > 50\n",
    "    \n",
    "f(simb[0])"
   ]
  },
  {
   "cell_type": "code",
   "execution_count": 50,
   "metadata": {},
   "outputs": [
    {
     "data": {
      "text/plain": [
       "['6', '8', '4', '5', '3', '4', '5', '6']"
      ]
     },
     "execution_count": 50,
     "metadata": {},
     "output_type": "execute_result"
    }
   ],
   "source": [
    "list(filter(f,'68014253456'))"
   ]
  },
  {
   "cell_type": "markdown",
   "metadata": {},
   "source": [
    "# L’utilisation des itérateurs"
   ]
  },
  {
   "cell_type": "code",
   "execution_count": null,
   "metadata": {},
   "outputs": [],
   "source": []
  },
  {
   "cell_type": "code",
   "execution_count": 22,
   "metadata": {},
   "outputs": [
    {
     "name": "stdout",
     "output_type": "stream",
     "text": [
      "a\n",
      "b\n",
      "c\n",
      "d\n"
     ]
    }
   ],
   "source": [
    "a = \"abcd\"\n",
    "for i in a: print(i)"
   ]
  },
  {
   "cell_type": "code",
   "execution_count": 23,
   "metadata": {},
   "outputs": [
    {
     "data": {
      "text/plain": [
       "'a'"
      ]
     },
     "execution_count": 23,
     "metadata": {},
     "output_type": "execute_result"
    }
   ],
   "source": [
    "b = iter(a)\n",
    "next(b)"
   ]
  },
  {
   "cell_type": "code",
   "execution_count": 24,
   "metadata": {},
   "outputs": [
    {
     "data": {
      "text/plain": [
       "'b'"
      ]
     },
     "execution_count": 24,
     "metadata": {},
     "output_type": "execute_result"
    }
   ],
   "source": [
    "next(b)"
   ]
  },
  {
   "cell_type": "code",
   "execution_count": 25,
   "metadata": {},
   "outputs": [
    {
     "data": {
      "text/plain": [
       "'c'"
      ]
     },
     "execution_count": 25,
     "metadata": {},
     "output_type": "execute_result"
    }
   ],
   "source": [
    "next(b)"
   ]
  },
  {
   "cell_type": "code",
   "execution_count": 26,
   "metadata": {},
   "outputs": [
    {
     "data": {
      "text/plain": [
       "'d'"
      ]
     },
     "execution_count": 26,
     "metadata": {},
     "output_type": "execute_result"
    }
   ],
   "source": [
    "next(b)"
   ]
  },
  {
   "cell_type": "code",
   "execution_count": null,
   "metadata": {},
   "outputs": [],
   "source": []
  },
  {
   "cell_type": "code",
   "execution_count": 28,
   "metadata": {},
   "outputs": [
    {
     "name": "stdout",
     "output_type": "stream",
     "text": [
      "a\n",
      "b\n",
      "c\n",
      "d\n"
     ]
    }
   ],
   "source": [
    "for i in a: print(i)"
   ]
  },
  {
   "cell_type": "markdown",
   "metadata": {},
   "source": [
    "# Les fonctions générateur"
   ]
  },
  {
   "cell_type": "code",
   "execution_count": 17,
   "metadata": {
    "ExecuteTime": {
     "end_time": "2019-07-08T12:55:20.737839Z",
     "start_time": "2019-07-08T12:55:20.706593Z"
    }
   },
   "outputs": [],
   "source": [
    "def fonction_yield(n):\n",
    "    i = 0                                     \n",
    "    while i < n-1:                               \n",
    "        print(\"yield étape 1 : \", i, end=' ')                               \n",
    "        yield i                               \n",
    "        i = i+1                               \n",
    "    print(\"yield étape 2 : \", i, end=' ')                               \n",
    "    yield i                                   "
   ]
  },
  {
   "cell_type": "code",
   "execution_count": null,
   "metadata": {},
   "outputs": [],
   "source": [
    "for a in fonction_yield(2):  print(f'variable a = {a}')"
   ]
  },
  {
   "cell_type": "code",
   "execution_count": 13,
   "metadata": {},
   "outputs": [
    {
     "name": "stdout",
     "output_type": "stream",
     "text": [
      "yield étape 1 :  0 variable a = 0\n",
      "yield étape 1 :  1 variable a = 1\n",
      "yield étape 1 :  2 variable a = 2\n",
      "yield étape 1 :  3 variable a = 3\n",
      "yield étape 1 :  4 variable a = 4\n",
      "yield étape 1 :  5 variable a = 5\n",
      "yield étape 1 :  6 variable a = 6\n",
      "yield étape 1 :  7 variable a = 7\n",
      "yield étape 1 :  8 variable a = 8\n",
      "yield étape 2 :  9 variable a = 9\n"
     ]
    }
   ],
   "source": [
    "for a in fonction_yield(10): print(f'variable a = {a}')"
   ]
  },
  {
   "cell_type": "code",
   "execution_count": 14,
   "metadata": {},
   "outputs": [
    {
     "name": "stdout",
     "output_type": "stream",
     "text": [
      "yield étape 1 :  0 "
     ]
    },
    {
     "data": {
      "text/plain": [
       "0"
      ]
     },
     "execution_count": 14,
     "metadata": {},
     "output_type": "execute_result"
    }
   ],
   "source": [
    "next(fonction_yield(2))"
   ]
  },
  {
   "cell_type": "code",
   "execution_count": null,
   "metadata": {},
   "outputs": [],
   "source": []
  },
  {
   "cell_type": "code",
   "execution_count": null,
   "metadata": {},
   "outputs": [],
   "source": []
  }
 ],
 "metadata": {
  "kernelspec": {
   "display_name": "Python 3 (ipykernel)",
   "language": "python",
   "name": "python3"
  },
  "language_info": {
   "codemirror_mode": {
    "name": "ipython",
    "version": 3
   },
   "file_extension": ".py",
   "mimetype": "text/x-python",
   "name": "python",
   "nbconvert_exporter": "python",
   "pygments_lexer": "ipython3",
   "version": "3.10.0"
  }
 },
 "nbformat": 4,
 "nbformat_minor": 4
}
